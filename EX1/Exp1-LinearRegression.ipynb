{
 "cells": [
  {
   "cell_type": "markdown",
   "metadata": {},
   "source": [
    "# 实验1：线性回归及岭回归\n",
    "----------\n",
    "## 介绍\n",
    "\n",
    "在本实验中，你将实现线性回归及岭回归并了解其在数据上的工作原理。\n",
    "\n",
    "本次实验需要用到的数据集包括：\n",
    "\n",
    "- ex1data1.txt -单变量的线性回归数据集\n",
    "- ex1data2.txt -多变量的线性回归数据集\n",
    "\n",
    "评分标准如下：\n",
    "\n",
    "- [要点1：计算损失](#1)-------------------------------（20分）\n",
    "- [要点2：单变量线性回归梯度下降](#2)----------（20分）\n",
    "- [要点3：数据标准化](#3)----------------------------（20分）\n",
    "- [要点4：多变量线性回归梯度下降](#4)----------（20分）\n",
    "- [要点5：线性回归闭式解](#5)----------------------（10分）\n",
    "- [要点6：岭回归闭式解](#6)-------------------------（10分）\n"
   ]
  },
  {
   "cell_type": "markdown",
   "metadata": {},
   "source": [
    "## 1 单变量线性回归\n",
    "\n",
    "在该部分实验中，将实现单变量线性回归并用来预测餐车的利润。\n",
    "\n",
    "假设你是一家餐厅的领导，正在考虑在不同的城市开设新的分店。该连锁店已经在不同的城市有了餐车，并且你能够获得每个城市的人口和利润数据。\n",
    "\n",
    "现在需要使用这些数据来帮助你选择下一个被扩展的城市。\n",
    "\n",
    "文件`ex1data1.txt`包含线性回归问题的数据集。第一列数据对应城市人口，第二列数据对应那座城市的餐车的利润。利润为负时表示亏损。\n",
    "\n",
    "### 1.1 绘制数据<span id='2'></span>\n",
    "\n",
    "在开始进入实验之前，对数据进行可视化通常很有用。对于该数据集，可以使用散点图进行可视化，因为它只有两个属性（人口、利润）。"
   ]
  },
  {
   "cell_type": "code",
   "execution_count": 69,
   "metadata": {},
   "outputs": [],
   "source": [
    "# 引入所需要的库文件\n",
    "import numpy as np\n",
    "import pandas as pd\n",
    "import matplotlib.pyplot as plt\n",
    "import os\n",
    "\n",
    "%matplotlib inline"
   ]
  },
  {
   "cell_type": "code",
   "execution_count": 70,
   "metadata": {},
   "outputs": [
    {
     "data": {
      "text/html": [
       "<div>\n",
       "<style scoped>\n",
       "    .dataframe tbody tr th:only-of-type {\n",
       "        vertical-align: middle;\n",
       "    }\n",
       "\n",
       "    .dataframe tbody tr th {\n",
       "        vertical-align: top;\n",
       "    }\n",
       "\n",
       "    .dataframe thead th {\n",
       "        text-align: right;\n",
       "    }\n",
       "</style>\n",
       "<table border=\"1\" class=\"dataframe\">\n",
       "  <thead>\n",
       "    <tr style=\"text-align: right;\">\n",
       "      <th></th>\n",
       "      <th>Population</th>\n",
       "      <th>Profit</th>\n",
       "    </tr>\n",
       "  </thead>\n",
       "  <tbody>\n",
       "    <tr>\n",
       "      <th>0</th>\n",
       "      <td>6.1101</td>\n",
       "      <td>17.5920</td>\n",
       "    </tr>\n",
       "    <tr>\n",
       "      <th>1</th>\n",
       "      <td>5.5277</td>\n",
       "      <td>9.1302</td>\n",
       "    </tr>\n",
       "    <tr>\n",
       "      <th>2</th>\n",
       "      <td>8.5186</td>\n",
       "      <td>13.6620</td>\n",
       "    </tr>\n",
       "    <tr>\n",
       "      <th>3</th>\n",
       "      <td>7.0032</td>\n",
       "      <td>11.8540</td>\n",
       "    </tr>\n",
       "    <tr>\n",
       "      <th>4</th>\n",
       "      <td>5.8598</td>\n",
       "      <td>6.8233</td>\n",
       "    </tr>\n",
       "    <tr>\n",
       "      <th>5</th>\n",
       "      <td>8.3829</td>\n",
       "      <td>11.8860</td>\n",
       "    </tr>\n",
       "    <tr>\n",
       "      <th>6</th>\n",
       "      <td>7.4764</td>\n",
       "      <td>4.3483</td>\n",
       "    </tr>\n",
       "    <tr>\n",
       "      <th>7</th>\n",
       "      <td>8.5781</td>\n",
       "      <td>12.0000</td>\n",
       "    </tr>\n",
       "    <tr>\n",
       "      <th>8</th>\n",
       "      <td>6.4862</td>\n",
       "      <td>6.5987</td>\n",
       "    </tr>\n",
       "    <tr>\n",
       "      <th>9</th>\n",
       "      <td>5.0546</td>\n",
       "      <td>3.8166</td>\n",
       "    </tr>\n",
       "  </tbody>\n",
       "</table>\n",
       "</div>"
      ],
      "text/plain": [
       "   Population   Profit\n",
       "0      6.1101  17.5920\n",
       "1      5.5277   9.1302\n",
       "2      8.5186  13.6620\n",
       "3      7.0032  11.8540\n",
       "4      5.8598   6.8233\n",
       "5      8.3829  11.8860\n",
       "6      7.4764   4.3483\n",
       "7      8.5781  12.0000\n",
       "8      6.4862   6.5987\n",
       "9      5.0546   3.8166"
      ]
     },
     "execution_count": 70,
     "metadata": {},
     "output_type": "execute_result"
    }
   ],
   "source": [
    "# 数据存储路径\n",
    "path = 'ex1data1.txt'\n",
    "\n",
    "# 读入相应的数据文件\n",
    "data = pd.read_csv(path, header=None,names=['Population','Profit'])\n",
    "\n",
    "#查看数据的前五条\n",
    "data.head(10)"
   ]
  },
  {
   "cell_type": "code",
   "execution_count": 71,
   "metadata": {},
   "outputs": [
    {
     "data": {
      "text/plain": [
       "<AxesSubplot:xlabel='Population', ylabel='Profit'>"
      ]
     },
     "execution_count": 71,
     "metadata": {},
     "output_type": "execute_result"
    },
    {
     "data": {
      "image/png": "[encoded data removed]",
      "text/plain": [
       "<Figure size 648x432 with 1 Axes>"
      ]
     },
     "metadata": {
      "needs_background": "light"
     },
     "output_type": "display_data"
    }
   ],
   "source": [
    "# 数据可视化 \n",
    "data.plot(kind='scatter', x='Population', y='Profit',c='red', figsize=(9,6))"
   ]
  },
  {
   "cell_type": "markdown",
   "metadata": {},
   "source": [
    "### 1.2 梯度下降\n",
    "\n",
    "在该部分中，将使用梯度下降来选择合适的线性回归参数$\\mathbf{w}$用以拟合给定数据集。\n",
    "\n",
    "说明：为编写方便，偏置项$b$可被作为权重向量$\\mathbf{w}$的第一个分量$w_0$。\n",
    "\n",
    "#### 1.2.1 目标函数\n",
    "\n",
    "线性回归的目的是最小化目标函数：\n",
    "\n",
    "$$ E(\\mathbf{w}) = \\frac{1}{2m} \\sum_{i=1}^m \\left( \\mathbf{w}^T\\mathbf{x}_i - y_i\\right)^2$$\n",
    "\n",
    "其中$\\mathbf{w}$为权重参数。上述目标函数也可写成如下矩阵形式：\n",
    "\n",
    "$$ E(\\mathbf{w}) = \\frac{1}{2m} \\|\\mathbf{X}\\mathbf{w}-\\mathbf{y}\\|_2^2$$\n",
    "\n",
    "其中矩阵$\\mathbf{X}$的第$i$行是$\\mathbf{x}_i^T$。 \n",
    "\n",
    "回顾一下，模型的参数向量是$\\mathbf{w}$，这些将用来调整以最小化损失函数$E(\\mathbf{w})$。\n",
    "\n",
    "其中一种方法是使用批量梯度下降算法，在批量梯度下降中，每次迭代地执行更新，随着梯度下降的每一步计算，参数$\\mathbf{w}$越来越接近能够使得损失函数$E(\\mathbf{w})$达到最低的最佳值。\n",
    "\n",
    "\n",
    "#### 1.2.2 实现\n",
    "\n",
    "在上一部分的代码中，我们已经将所需要用到的数据加载至变量`data`中，并为其列分别进行命名。\n",
    "\n",
    "接下来，我们在数据中添加了一个维度来拟合截距项$w_0$。并将初始参数值设为0，学习率$\\alpha$设为0.01。\n"
   ]
  },
  {
   "cell_type": "code",
   "execution_count": 72,
   "metadata": {
    "scrolled": false
   },
   "outputs": [
    {
     "data": {
      "text/html": [
       "<div>\n",
       "<style scoped>\n",
       "    .dataframe tbody tr th:only-of-type {\n",
       "        vertical-align: middle;\n",
       "    }\n",
       "\n",
       "    .dataframe tbody tr th {\n",
       "        vertical-align: top;\n",
       "    }\n",
       "\n",
       "    .dataframe thead th {\n",
       "        text-align: right;\n",
       "    }\n",
       "</style>\n",
       "<table border=\"1\" class=\"dataframe\">\n",
       "  <thead>\n",
       "    <tr style=\"text-align: right;\">\n",
       "      <th></th>\n",
       "      <th>Ones</th>\n",
       "      <th>Population</th>\n",
       "      <th>Profit</th>\n",
       "    </tr>\n",
       "  </thead>\n",
       "  <tbody>\n",
       "    <tr>\n",
       "      <th>0</th>\n",
       "      <td>1</td>\n",
       "      <td>6.1101</td>\n",
       "      <td>17.5920</td>\n",
       "    </tr>\n",
       "    <tr>\n",
       "      <th>1</th>\n",
       "      <td>1</td>\n",
       "      <td>5.5277</td>\n",
       "      <td>9.1302</td>\n",
       "    </tr>\n",
       "    <tr>\n",
       "      <th>2</th>\n",
       "      <td>1</td>\n",
       "      <td>8.5186</td>\n",
       "      <td>13.6620</td>\n",
       "    </tr>\n",
       "    <tr>\n",
       "      <th>3</th>\n",
       "      <td>1</td>\n",
       "      <td>7.0032</td>\n",
       "      <td>11.8540</td>\n",
       "    </tr>\n",
       "    <tr>\n",
       "      <th>4</th>\n",
       "      <td>1</td>\n",
       "      <td>5.8598</td>\n",
       "      <td>6.8233</td>\n",
       "    </tr>\n",
       "    <tr>\n",
       "      <th>5</th>\n",
       "      <td>1</td>\n",
       "      <td>8.3829</td>\n",
       "      <td>11.8860</td>\n",
       "    </tr>\n",
       "    <tr>\n",
       "      <th>6</th>\n",
       "      <td>1</td>\n",
       "      <td>7.4764</td>\n",
       "      <td>4.3483</td>\n",
       "    </tr>\n",
       "    <tr>\n",
       "      <th>7</th>\n",
       "      <td>1</td>\n",
       "      <td>8.5781</td>\n",
       "      <td>12.0000</td>\n",
       "    </tr>\n",
       "    <tr>\n",
       "      <th>8</th>\n",
       "      <td>1</td>\n",
       "      <td>6.4862</td>\n",
       "      <td>6.5987</td>\n",
       "    </tr>\n",
       "    <tr>\n",
       "      <th>9</th>\n",
       "      <td>1</td>\n",
       "      <td>5.0546</td>\n",
       "      <td>3.8166</td>\n",
       "    </tr>\n",
       "  </tbody>\n",
       "</table>\n",
       "</div>"
      ],
      "text/plain": [
       "   Ones  Population   Profit\n",
       "0     1      6.1101  17.5920\n",
       "1     1      5.5277   9.1302\n",
       "2     1      8.5186  13.6620\n",
       "3     1      7.0032  11.8540\n",
       "4     1      5.8598   6.8233\n",
       "5     1      8.3829  11.8860\n",
       "6     1      7.4764   4.3483\n",
       "7     1      8.5781  12.0000\n",
       "8     1      6.4862   6.5987\n",
       "9     1      5.0546   3.8166"
      ]
     },
     "execution_count": 72,
     "metadata": {},
     "output_type": "execute_result"
    }
   ],
   "source": [
    "#在列索引为0处添加数据列，该列值均为1\n",
    "data.insert(0, 'Ones', 1)\n",
    "\n",
    "#获取数据列数\n",
    "cols = data.shape[1]\n",
    "\n",
    "rows = data.shape[0]\n",
    "\n",
    "#对变量X和y进行初始化,并将其数据类型转换为矩阵\n",
    "X = data.iloc[:,0:cols-1]\n",
    "y = data.iloc[:,cols-1:cols]\n",
    "X = np.matrix(X.values)\n",
    "y = np.matrix(y.values)\n",
    "\n",
    "#学习率、迭代次数的初始化\n",
    "alpha = 0.01\n",
    "iterations = 1500\n",
    "\n",
    "data.head(10)"
   ]
  },
  {
   "cell_type": "markdown",
   "metadata": {},
   "source": [
    "# 1.2.3 计算损失函数 $E(\\mathbf{w})$<span id='3'></span>\n",
    "\n",
    "在执行梯度下降最小化成本函数$E(\\mathbf{w})$时，通过计算成本来监视收敛状态是有帮助的。\n",
    "\n",
    "在该部分练习任务中，**你需要实现一个计算损失$E(\\mathbf{w})$的函数`computeCost`**，用于检查梯度下降实现的收敛性。\n",
    "\n",
    "其中，$\\mathbf{X}$ 和 $\\mathbf{y}$ 不是标量值，而是矩阵，其行代表训练集中的示例。\n",
    "\n",
    "\n",
    "\n",
    "<div class=\"alert alert-block alert-warning\">\n",
    "\n",
    "**要点 1：**\n",
    "完成该函数后，将$\\mathbf{w}$值初始化为$\\mathbf{0}$并进行损失函数的计算，将得到的损失函数值打印出来。\n",
    "\n",
    "如果结果为32.07，则计算通过。\n",
    "</div>\n",
    "\n",
    "<a id=\"computeCost\"></a>"
   ]
  },
  {
   "cell_type": "code",
   "execution_count": 123,
   "metadata": {
    "scrolled": true
   },
   "outputs": [
    {
     "data": {
      "text/plain": [
       "32.072733877455676"
      ]
     },
     "execution_count": 123,
     "metadata": {},
     "output_type": "execute_result"
    }
   ],
   "source": [
    "\n",
    "# ====================== 在这里填入代码 ======================= \n",
    "# 打印损失函数\n",
    "def computeCost(X, y, w):\n",
    "    ans = np.linalg.norm((X * w - y), ord = 2)\n",
    "    ans = (ans**2) * (1 / (2 * len(X)))\n",
    "    \n",
    "    return ans\n",
    "\n",
    "w = np.matrix(np.zeros((2,1)))\n",
    "computeCost(X, y, w)\n",
    "# ============================================================= "
   ]
  },
  {
   "cell_type": "markdown",
   "metadata": {},
   "source": [
    "#### 1.2.4 梯度下降<span id='4'></span>\n",
    "\n",
    "接下来，我们将实现梯度下降，给出的代码已经实现了循环结构，你只需要在每次的迭代中提供$\\mathbf{w}$的更新。\n",
    "\n",
    "在进行代码实现时，请确保你了解要优化的内容，和正在更新的内容。\n",
    "\n",
    " \n",
    "验证梯度下降是否正常工作的一种好方法是查看$E(\\mathbf{w})$的值，并检查该值每步是否减小。每次迭代时，代码都会调用`computeCost`函数并打印损失函数值。假设你实现了梯度下降，正确地计算损失，$E(\\mathbf{w})$值一般会在算法结束时收敛到稳定值。\n",
    "\n",
    "\n",
    "<div class=\"alert alert-block alert-warning\">\n",
    "\n",
    "**要点 2：**\n",
    "\n",
    "你的任务是实现单变量线性回归的梯度下降。最终的损失函数值应约为4.48。\n",
    "\n",
    "</div>\n",
    "\n",
    "<a id=\"computeCost\"></a>"
   ]
  },
  {
   "cell_type": "code",
   "execution_count": 125,
   "metadata": {},
   "outputs": [
    {
     "name": "stdout",
     "output_type": "stream",
     "text": [
      "The weight vector:\n",
      " [[-3.63029144]\n",
      " [ 1.16636235]]\n"
     ]
    },
    {
     "data": {
      "text/plain": [
       "4.483388256587727"
      ]
     },
     "execution_count": 125,
     "metadata": {},
     "output_type": "execute_result"
    }
   ],
   "source": [
    "\n",
    "#====================== 在这里填入代码 ======================= \n",
    "def gradientDescent(X, y, w, alpha, iters):\n",
    "    cost = np.zeros(iters)\n",
    "    \n",
    "    temp = np.matrix(np.zeros(w.shape))\n",
    "    parameters = int(w.ravel().shape[1])\n",
    "    \n",
    "    for i in range(iters):\n",
    "        error = (X * w) - y\n",
    "        for j in range(parameters):\n",
    "            term = np.multiply(error, X[:,j])\n",
    "            temp[j,0] = w[j,0] - ((alpha / len(X)) * np.sum(term))\n",
    "            \n",
    "        w = temp\n",
    "        cost[i]=computeCost(X,y,w)\n",
    "    return w, cost\n",
    "        \n",
    "##============================================================= \n",
    "\n",
    "w_final, cost_final = gradientDescent(X, y, w, alpha, iterations)\n",
    "# 计算最终的参数所得到的成本值\n",
    "print('The weight vector:\\n',w_final)\n",
    "computeCost(X, y, w_final)"
   ]
  },
  {
   "cell_type": "code",
   "execution_count": 95,
   "metadata": {},
   "outputs": [
    {
     "data": {
      "text/plain": [
       "Text(0.5, 1.0, 'Predicted Profit vs. Population Size')"
      ]
     },
     "execution_count": 95,
     "metadata": {},
     "output_type": "execute_result"
    },
    {
     "data": {
      "image/png": "[encoded data removed]",
      "text/plain": [
       "<Figure size 648x432 with 1 Axes>"
      ]
     },
     "metadata": {
      "needs_background": "light"
     },
     "output_type": "display_data"
    }
   ],
   "source": [
    "#对拟合曲线进行绘制\n",
    "x = np.linspace(data.Population.min(), data.Population.max(), 100)\n",
    "f = w_final[0,0] + (w_final[1,0] * x)\n",
    "\n",
    "fig, ax = plt.subplots(figsize=(9,6))\n",
    "ax.plot(x, f, 'b', label='Prediction')\n",
    "ax.scatter(data.Population, data.Profit, c='red',label='Traning Data')\n",
    "ax.legend(loc=2)\n",
    "ax.set_xlabel('Population')\n",
    "ax.set_ylabel('Profit')\n",
    "ax.set_title('Predicted Profit vs. Population Size')"
   ]
  },
  {
   "cell_type": "markdown",
   "metadata": {},
   "source": [
    "### 1.3 可视化损失函数\n",
    "\n",
    "为了更好地理解损失函数的迭代计算，将每一步计算的cost值进行记录并绘制。"
   ]
  },
  {
   "cell_type": "code",
   "execution_count": 85,
   "metadata": {},
   "outputs": [
    {
     "data": {
      "text/plain": [
       "Text(0.5, 1.0, 'Error vs. Iterations')"
      ]
     },
     "execution_count": 85,
     "metadata": {},
     "output_type": "execute_result"
    },
    {
     "data": {
      "image/png": "[encoded data removed]",
      "text/plain": [
       "<Figure size 648x432 with 1 Axes>"
      ]
     },
     "metadata": {
      "needs_background": "light"
     },
     "output_type": "display_data"
    }
   ],
   "source": [
    "fig, ax = plt.subplots(figsize=(9,6))\n",
    "ax.plot(np.arange(iterations), cost_final, 'r')\n",
    "ax.set_xlabel('Iterations')\n",
    "ax.set_ylabel('Cost')\n",
    "ax.set_title('Error vs. Iterations')"
   ]
  },
  {
   "cell_type": "markdown",
   "metadata": {},
   "source": [
    "## 2 多变量线性回归\n",
    "\n",
    "在该部分中，将使用多个变量来实现用线性回归预测房屋价格。假设你目前正在出售房屋，想知道什么是好的市场价格。\n",
    "\n",
    "一种方法是首先收集最近出售房屋的信息，其次是建立房屋价格模型。\n",
    "\n",
    "文件`ex1data2.txt`包含俄勒冈州波特兰市的房屋价格及相关信息。第一列是房屋的大小（以平方英尺为单位），第二列是卧室的个数，第三列是房屋的价格。\n",
    "\n",
    "### 2.1 特征标准化\n",
    "\n",
    "以下代码将从文件`ex1data2.txt`文件中加载并显示该数据集。\n",
    "\n",
    "通过观察这些数据，可以发现房屋的大小大约是卧室数量的1000倍。而当不同的特征值之间相差几个数量级时，将**特征进行缩放可以使梯度下降收敛得更快**。"
   ]
  },
  {
   "cell_type": "code",
   "execution_count": 103,
   "metadata": {},
   "outputs": [
    {
     "data": {
      "text/html": [
       "<div>\n",
       "<style scoped>\n",
       "    .dataframe tbody tr th:only-of-type {\n",
       "        vertical-align: middle;\n",
       "    }\n",
       "\n",
       "    .dataframe tbody tr th {\n",
       "        vertical-align: top;\n",
       "    }\n",
       "\n",
       "    .dataframe thead th {\n",
       "        text-align: right;\n",
       "    }\n",
       "</style>\n",
       "<table border=\"1\" class=\"dataframe\">\n",
       "  <thead>\n",
       "    <tr style=\"text-align: right;\">\n",
       "      <th></th>\n",
       "      <th>Size</th>\n",
       "      <th>Bedrooms</th>\n",
       "      <th>Price</th>\n",
       "    </tr>\n",
       "  </thead>\n",
       "  <tbody>\n",
       "    <tr>\n",
       "      <th>0</th>\n",
       "      <td>2104</td>\n",
       "      <td>3</td>\n",
       "      <td>399900</td>\n",
       "    </tr>\n",
       "    <tr>\n",
       "      <th>1</th>\n",
       "      <td>1600</td>\n",
       "      <td>3</td>\n",
       "      <td>329900</td>\n",
       "    </tr>\n",
       "    <tr>\n",
       "      <th>2</th>\n",
       "      <td>2400</td>\n",
       "      <td>3</td>\n",
       "      <td>369000</td>\n",
       "    </tr>\n",
       "    <tr>\n",
       "      <th>3</th>\n",
       "      <td>1416</td>\n",
       "      <td>2</td>\n",
       "      <td>232000</td>\n",
       "    </tr>\n",
       "    <tr>\n",
       "      <th>4</th>\n",
       "      <td>3000</td>\n",
       "      <td>4</td>\n",
       "      <td>539900</td>\n",
       "    </tr>\n",
       "  </tbody>\n",
       "</table>\n",
       "</div>"
      ],
      "text/plain": [
       "   Size  Bedrooms   Price\n",
       "0  2104         3  399900\n",
       "1  1600         3  329900\n",
       "2  2400         3  369000\n",
       "3  1416         2  232000\n",
       "4  3000         4  539900"
      ]
     },
     "execution_count": 103,
     "metadata": {},
     "output_type": "execute_result"
    }
   ],
   "source": [
    "path = 'ex1data2.txt'\n",
    "data2 = pd.read_csv(path, header=None, names=['Size', 'Bedrooms', 'Price'])\n",
    "data2.head()"
   ]
  },
  {
   "cell_type": "markdown",
   "metadata": {},
   "source": [
    "<span id='5'></span>\n",
    "\n",
    "\n",
    "<div class=\"alert alert-block alert-warning\">\n",
    "\n",
    "**要点 3**：\n",
    "\n",
    "在该部分实验中，你的任务是**编写代码并实现数据集中的数据标准化**。\n",
    "\n",
    "</div>\n",
    "\n",
    "<a id=\"computeCost\"></a>\n",
    "\n",
    "- 从数据集中减去每个特征的平均值。\n",
    "\n",
    "- 减去平均值后，再将新的特征值除以各自的“标准差”\n",
    "\n",
    "标准差是一种衡量特定特征的值的范围内有多大变化的方法（大多数数据点将位于平均值的两个标准差内）；这是取值范围的替代方法。\n",
    "\n",
    "当标准化特征时，需要存储用于标准化的值——平均值和标准差。从模型中学习参数后，经常需要预测新的房屋的价格。此时给定一个新的$x$值（房屋面积和卧室数量），必须首先使用先前从训练集中计算的平均值和标准差来对新的数据进行标准化。"
   ]
  },
  {
   "cell_type": "code",
   "execution_count": 104,
   "metadata": {},
   "outputs": [
    {
     "data": {
      "text/html": [
       "<div>\n",
       "<style scoped>\n",
       "    .dataframe tbody tr th:only-of-type {\n",
       "        vertical-align: middle;\n",
       "    }\n",
       "\n",
       "    .dataframe tbody tr th {\n",
       "        vertical-align: top;\n",
       "    }\n",
       "\n",
       "    .dataframe thead th {\n",
       "        text-align: right;\n",
       "    }\n",
       "</style>\n",
       "<table border=\"1\" class=\"dataframe\">\n",
       "  <thead>\n",
       "    <tr style=\"text-align: right;\">\n",
       "      <th></th>\n",
       "      <th>Size</th>\n",
       "      <th>Bedrooms</th>\n",
       "      <th>Price</th>\n",
       "    </tr>\n",
       "  </thead>\n",
       "  <tbody>\n",
       "    <tr>\n",
       "      <th>0</th>\n",
       "      <td>0.130010</td>\n",
       "      <td>-0.223675</td>\n",
       "      <td>0.475747</td>\n",
       "    </tr>\n",
       "    <tr>\n",
       "      <th>1</th>\n",
       "      <td>-0.504190</td>\n",
       "      <td>-0.223675</td>\n",
       "      <td>-0.084074</td>\n",
       "    </tr>\n",
       "    <tr>\n",
       "      <th>2</th>\n",
       "      <td>0.502476</td>\n",
       "      <td>-0.223675</td>\n",
       "      <td>0.228626</td>\n",
       "    </tr>\n",
       "    <tr>\n",
       "      <th>3</th>\n",
       "      <td>-0.735723</td>\n",
       "      <td>-1.537767</td>\n",
       "      <td>-0.867025</td>\n",
       "    </tr>\n",
       "    <tr>\n",
       "      <th>4</th>\n",
       "      <td>1.257476</td>\n",
       "      <td>1.090417</td>\n",
       "      <td>1.595389</td>\n",
       "    </tr>\n",
       "  </tbody>\n",
       "</table>\n",
       "</div>"
      ],
      "text/plain": [
       "       Size  Bedrooms     Price\n",
       "0  0.130010 -0.223675  0.475747\n",
       "1 -0.504190 -0.223675 -0.084074\n",
       "2  0.502476 -0.223675  0.228626\n",
       "3 -0.735723 -1.537767 -0.867025\n",
       "4  1.257476  1.090417  1.595389"
      ]
     },
     "execution_count": 104,
     "metadata": {},
     "output_type": "execute_result"
    }
   ],
   "source": [
    "##====================== 在这里填入代码 =======================\n",
    "data2 = (data2 - data2.mean()) / data2.std()\n",
    "data2.head()\n",
    "##============================================================= "
   ]
  },
  {
   "cell_type": "code",
   "execution_count": 105,
   "metadata": {},
   "outputs": [],
   "source": [
    "#在列索引为0处添加数据列，该列值均为1\n",
    "data2.insert(0, 'Ones', 1)"
   ]
  },
  {
   "cell_type": "markdown",
   "metadata": {},
   "source": [
    "### 2.2 梯度下降<span id='6'></span>\n",
    "\n",
    "在之前的练习中，我们使用单变量线性回归实现了梯度下降的问题。\n",
    "\n",
    "<div class=\"alert alert-block alert-warning\">\n",
    "\n",
    "**要点 4：**\n",
    "\n",
    "假设函数和批次梯度下降的更新规则保持不变，你的任务是**代码实现多变量线性回归的梯度下降**。最终的损失函数值应大约为0.13。\n",
    "\n",
    "</div>\n",
    "\n",
    "\n",
    " \n",
    "- 确保你的代码中可以支持任何大小的数据，并且数据均已被向量化。\n"
   ]
  },
  {
   "cell_type": "code",
   "execution_count": 106,
   "metadata": {},
   "outputs": [
    {
     "name": "stdout",
     "output_type": "stream",
     "text": [
      "The weight vector:\n",
      " [[-1.10845139e-16]\n",
      " [ 8.84042349e-01]\n",
      " [-5.24551809e-02]]\n"
     ]
    },
    {
     "data": {
      "text/plain": [
       "0.130686706060959"
      ]
     },
     "execution_count": 106,
     "metadata": {},
     "output_type": "execute_result"
    }
   ],
   "source": [
    "# set X (training data) and y (target variable)\n",
    "cols = data2.shape[1]\n",
    "X2 = data2.iloc[:,0:cols-1]\n",
    "y2 = data2.iloc[:,cols-1:cols]\n",
    "\n",
    "##====================== 在这里填入代码 ======================= \n",
    "\n",
    "# convert to matrices and initialize theta\n",
    "X2 = np.matrix(X2.values)\n",
    "y2 = np.matrix(y2.values)\n",
    "w2 = np.matrix(np.array([0,0,0]))\n",
    "\n",
    "# perform linear regression on the data set\n",
    "w2_final, cost2_final = gradientDescent(X2, y2, w2.T, alpha, iterations)\n",
    " \n",
    "##============================================================= \n",
    "# get the cost (error) of the model\n",
    "print('The weight vector:\\n',w2_final)\n",
    "computeCost(X2, y2, w2_final)"
   ]
  },
  {
   "cell_type": "code",
   "execution_count": 107,
   "metadata": {},
   "outputs": [
    {
     "data": {
      "text/plain": [
       "Text(0.5, 1.0, 'Error vs. Iterations')"
      ]
     },
     "execution_count": 107,
     "metadata": {},
     "output_type": "execute_result"
    },
    {
     "data": {
      "image/png": "[encoded data removed]",
      "text/plain": [
       "<Figure size 648x432 with 1 Axes>"
      ]
     },
     "metadata": {
      "needs_background": "light"
     },
     "output_type": "display_data"
    }
   ],
   "source": [
    "#可视化损失函数\n",
    "fig, ax = plt.subplots(figsize=(9,6))\n",
    "ax.plot(np.arange(iterations), cost2_final, 'r')\n",
    "ax.set_xlabel('Iterations')\n",
    "ax.set_ylabel('Cost')\n",
    "ax.set_title('Error vs. Iterations')"
   ]
  },
  {
   "cell_type": "markdown",
   "metadata": {},
   "source": [
    "### 2.3 闭式解<span id='6'></span>\n",
    "\n",
    "通过令损失函数关于w的梯度为0，可得到线性回归原问题的闭式解\n",
    "\n",
    "$$ \\mathbf{w}= (\\mathbf{X}^T\\mathbf{X})^{-1}\\mathbf{X}^T\\mathbf{y}$$\n",
    "\n",
    "梯度下降与闭式解的比较：\n",
    "\n",
    "梯度下降：需要选择学习率$\\alpha$，需要多次迭代\n",
    "\n",
    "闭式解：不需要选择学习率$\\alpha$，一次计算得出；但是需要计算矩阵的逆，当样本数量$n$较大时运算代价较大\n",
    "\n",
    "<div class=\"alert alert-block alert-warning\">\n",
    "\n",
    "**要点 5：**\n",
    "\n",
    "你的任务是**代码实现多变量线性回归的闭式解**。\n",
    "\n",
    "</div>"
   ]
  },
  {
   "cell_type": "code",
   "execution_count": 108,
   "metadata": {},
   "outputs": [],
   "source": [
    "###线性回归闭式解###\n",
    "def LinearRegression(X, y):\n",
    "##====================== 在这里填入代码 ======================= \n",
    "    w3 = np.linalg.inv((X.T * X)) * X.T * y\n",
    "##============================================================= \n",
    "    return w3"
   ]
  },
  {
   "cell_type": "code",
   "execution_count": 120,
   "metadata": {},
   "outputs": [
    {
     "name": "stdout",
     "output_type": "stream",
     "text": [
      "The weight vector:\n",
      " [[-1.11022302e-16]\n",
      " [ 8.84765988e-01]\n",
      " [-5.31788197e-02]]\n"
     ]
    }
   ],
   "source": [
    "w3_final=LinearRegression(X2, y2)#这里用的是data2的数据\n",
    "print('The weight vector:\\n',w3_final)\n"
   ]
  },
  {
   "cell_type": "markdown",
   "metadata": {},
   "source": [
    "## 3 岭回归 (Ridge Regression)\n",
    "\n",
    "为提升线性回归模型的稳定性，可考虑如下岭回归(Ridge Regression)模型（有时也被称为脊回归模型）\n",
    "\n",
    "$$E(\\mathbf{w}) = \\|\\mathbf{X}\\mathbf{w}-\\mathbf{y}\\|_2^2+\\lambda\\|\\mathbf{w}\\|_2^2$$\n",
    "\n",
    "其中$\\lambda$为正则化参数，为非负数。上述模型的闭式解为\n",
    "\n",
    "$$ \\mathbf{w}= (\\mathbf{X}^T\\mathbf{X}+\\lambda\\mathbf{I})^{-1}\\mathbf{X}^T\\mathbf{y}$$\n",
    "\n",
    "<div class=\"alert alert-block alert-warning\">\n",
    "\n",
    "**要点 6：**\n",
    "\n",
    "你的任务是**代码实现岭回归的闭式解**。\n",
    "\n",
    "</div>"
   ]
  },
  {
   "cell_type": "code",
   "execution_count": 118,
   "metadata": {},
   "outputs": [],
   "source": [
    "###岭回归闭式解###\n",
    "def RidgeRegression(X, y, lam):\n",
    "    ##====================== 在这里填入代码 ======================= \n",
    "    num = (X.T * X).shape[0]\n",
    "    w4 = np.linalg.inv(X.T * X + lam * np.identity(num)) * X.T * y\n",
    "    ##======================================= =====================\n",
    "    return w4"
   ]
  },
  {
   "cell_type": "code",
   "execution_count": 119,
   "metadata": {},
   "outputs": [
    {
     "name": "stdout",
     "output_type": "stream",
     "text": [
      "The weight vector:\n",
      " [[-1.17961196e-16]\n",
      " [ 8.84476478e-01]\n",
      " [-5.30051810e-02]]\n"
     ]
    }
   ],
   "source": [
    "w4_final=RidgeRegression(X2, y2,0.01) #这里用的是data2的数据\n",
    "print('The weight vector:\\n',w4_final)"
   ]
  }
 ],
 "metadata": {
  "kernelspec": {
   "display_name": "Python 3 (ipykernel)",
   "language": "python",
   "name": "python3"
  },
  "language_info": {
   "codemirror_mode": {
    "name": "ipython",
    "version": 3
   },
   "file_extension": ".py",
   "mimetype": "text/x-python",
   "name": "python",
   "nbconvert_exporter": "python",
   "pygments_lexer": "ipython3",
   "version": "3.7.7"
  }
 },
 "nbformat": 4,
 "nbformat_minor": 2
}
